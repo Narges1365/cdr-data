{
 "cells": [
  {
   "cell_type": "code",
   "execution_count": 1,
   "metadata": {},
   "outputs": [],
   "source": [
    "import pandas as pd #for working with datasets\n",
    "import numpy as np  #for working with numerical data\n",
    "import seaborn as sns; sns.set() #for plotting nice graphic plots\n",
    "import math\n",
    "import matplotlib.pyplot as plt\n",
    "import networkx as nx"
   ]
  },
  {
   "cell_type": "code",
   "execution_count": 2,
   "metadata": {},
   "outputs": [
    {
     "name": "stdout",
     "output_type": "stream",
     "text": [
      "<class 'pandas.core.frame.DataFrame'>\n"
     ]
    }
   ],
   "source": [
    "#read raw csv data from file and consider the ts_start cloumn as a datetime column\n",
    "#cdr_raw would be our dataset which is a Pandas object (dataframe)\n",
    "cdr_raw = pd.read_csv('sample_cdr.csv', parse_dates=['ts_start'])\n",
    "#The type of the object\n",
    "print(type(cdr_raw))"
   ]
  },
  {
   "cell_type": "code",
   "execution_count": 3,
   "metadata": {},
   "outputs": [
    {
     "data": {
      "text/html": [
       "<div>\n",
       "<style scoped>\n",
       "    .dataframe tbody tr th:only-of-type {\n",
       "        vertical-align: middle;\n",
       "    }\n",
       "\n",
       "    .dataframe tbody tr th {\n",
       "        vertical-align: top;\n",
       "    }\n",
       "\n",
       "    .dataframe thead th {\n",
       "        text-align: right;\n",
       "    }\n",
       "</style>\n",
       "<table border=\"1\" class=\"dataframe\">\n",
       "  <thead>\n",
       "    <tr style=\"text-align: right;\">\n",
       "      <th></th>\n",
       "      <th>id_chiamante</th>\n",
       "      <th>id_cella_start</th>\n",
       "      <th>id_cella_end</th>\n",
       "      <th>durata</th>\n",
       "      <th>ts_start</th>\n",
       "    </tr>\n",
       "  </thead>\n",
       "  <tbody>\n",
       "    <tr>\n",
       "      <th>0</th>\n",
       "      <td>99999999999</td>\n",
       "      <td>PI012U3</td>\n",
       "      <td>PI012U3</td>\n",
       "      <td>52</td>\n",
       "      <td>2012-10-09 10:06:29</td>\n",
       "    </tr>\n",
       "    <tr>\n",
       "      <th>1</th>\n",
       "      <td>99999999999</td>\n",
       "      <td>PI016U2</td>\n",
       "      <td>PI016G3</td>\n",
       "      <td>602</td>\n",
       "      <td>2012-10-09 15:02:56</td>\n",
       "    </tr>\n",
       "    <tr>\n",
       "      <th>2</th>\n",
       "      <td>99999999999</td>\n",
       "      <td>PI016U2</td>\n",
       "      <td>PI016U2</td>\n",
       "      <td>670</td>\n",
       "      <td>2012-10-09 21:55:18</td>\n",
       "    </tr>\n",
       "    <tr>\n",
       "      <th>3</th>\n",
       "      <td>99999999999</td>\n",
       "      <td>PI016U2</td>\n",
       "      <td>PI016G2</td>\n",
       "      <td>509</td>\n",
       "      <td>2012-10-09 22:37:56</td>\n",
       "    </tr>\n",
       "    <tr>\n",
       "      <th>4</th>\n",
       "      <td>99999999999</td>\n",
       "      <td>PI016D2</td>\n",
       "      <td>PI016D2</td>\n",
       "      <td>2</td>\n",
       "      <td>2012-10-09 22:49:13</td>\n",
       "    </tr>\n",
       "  </tbody>\n",
       "</table>\n",
       "</div>"
      ],
      "text/plain": [
       "   id_chiamante id_cella_start id_cella_end  durata            ts_start\n",
       "0   99999999999        PI012U3      PI012U3      52 2012-10-09 10:06:29\n",
       "1   99999999999        PI016U2      PI016G3     602 2012-10-09 15:02:56\n",
       "2   99999999999        PI016U2      PI016U2     670 2012-10-09 21:55:18\n",
       "3   99999999999        PI016U2      PI016G2     509 2012-10-09 22:37:56\n",
       "4   99999999999        PI016D2      PI016D2       2 2012-10-09 22:49:13"
      ]
     },
     "execution_count": 3,
     "metadata": {},
     "output_type": "execute_result"
    }
   ],
   "source": [
    "#we represent some records from start of the file\n",
    "cdr_raw.head()"
   ]
  },
  {
   "cell_type": "code",
   "execution_count": 4,
   "metadata": {},
   "outputs": [
    {
     "data": {
      "text/html": [
       "<div>\n",
       "<style scoped>\n",
       "    .dataframe tbody tr th:only-of-type {\n",
       "        vertical-align: middle;\n",
       "    }\n",
       "\n",
       "    .dataframe tbody tr th {\n",
       "        vertical-align: top;\n",
       "    }\n",
       "\n",
       "    .dataframe thead th {\n",
       "        text-align: right;\n",
       "    }\n",
       "</style>\n",
       "<table border=\"1\" class=\"dataframe\">\n",
       "  <thead>\n",
       "    <tr style=\"text-align: right;\">\n",
       "      <th></th>\n",
       "      <th>id_chiamante</th>\n",
       "      <th>id_cella_start</th>\n",
       "      <th>id_cella_end</th>\n",
       "      <th>durata</th>\n",
       "      <th>ts_start</th>\n",
       "    </tr>\n",
       "  </thead>\n",
       "  <tbody>\n",
       "    <tr>\n",
       "      <th>374</th>\n",
       "      <td>99999999999</td>\n",
       "      <td>PI016U2</td>\n",
       "      <td>PI016U2</td>\n",
       "      <td>148</td>\n",
       "      <td>2012-11-09 13:46:49</td>\n",
       "    </tr>\n",
       "    <tr>\n",
       "      <th>375</th>\n",
       "      <td>99999999999</td>\n",
       "      <td>PI016G2</td>\n",
       "      <td>PI016G2</td>\n",
       "      <td>48</td>\n",
       "      <td>2012-11-09 14:39:04</td>\n",
       "    </tr>\n",
       "    <tr>\n",
       "      <th>376</th>\n",
       "      <td>99999999999</td>\n",
       "      <td>PI016U2</td>\n",
       "      <td>PI016U2</td>\n",
       "      <td>898</td>\n",
       "      <td>2012-11-09 14:43:26</td>\n",
       "    </tr>\n",
       "    <tr>\n",
       "      <th>377</th>\n",
       "      <td>99999999999</td>\n",
       "      <td>PI016U2</td>\n",
       "      <td>PI016U2</td>\n",
       "      <td>848</td>\n",
       "      <td>2012-11-09 14:58:48</td>\n",
       "    </tr>\n",
       "    <tr>\n",
       "      <th>378</th>\n",
       "      <td>99999999999</td>\n",
       "      <td>PI016U2</td>\n",
       "      <td>PI016U2</td>\n",
       "      <td>5</td>\n",
       "      <td>2012-11-09 22:58:26</td>\n",
       "    </tr>\n",
       "  </tbody>\n",
       "</table>\n",
       "</div>"
      ],
      "text/plain": [
       "     id_chiamante id_cella_start id_cella_end  durata            ts_start\n",
       "374   99999999999        PI016U2      PI016U2     148 2012-11-09 13:46:49\n",
       "375   99999999999        PI016G2      PI016G2      48 2012-11-09 14:39:04\n",
       "376   99999999999        PI016U2      PI016U2     898 2012-11-09 14:43:26\n",
       "377   99999999999        PI016U2      PI016U2     848 2012-11-09 14:58:48\n",
       "378   99999999999        PI016U2      PI016U2       5 2012-11-09 22:58:26"
      ]
     },
     "execution_count": 4,
     "metadata": {},
     "output_type": "execute_result"
    }
   ],
   "source": [
    "#we represent some records from end of the file\n",
    "cdr_raw.tail()"
   ]
  },
  {
   "cell_type": "code",
   "execution_count": 5,
   "metadata": {},
   "outputs": [],
   "source": [
    "def checkHour(h):\n",
    "    if (0 <= h <= 6):\n",
    "        return \"t1\" #Night\n",
    "    elif (7 <= h <= 17):\n",
    "        return \"t2\" #Working hours\n",
    "    else:\n",
    "        return \"t3\" #Evening"
   ]
  },
  {
   "cell_type": "code",
   "execution_count": 6,
   "metadata": {},
   "outputs": [],
   "source": [
    "#to build our matrix we need to add two other columns to the data (weekday and hour in week), like the exam of VA.\n",
    "#getting the weekday is easy, just check this for our cdr_raw:     cdr_raw[\"ts_start\"].dt.weekday\n",
    "#or this cdr_raw[\"ts_start\"].dt.hour\n",
    "cdr_raw['weekday'] = cdr_raw['ts_start'].apply(lambda x: x.weekday())\n",
    "cdr_raw['hour'] = cdr_raw['ts_start'].apply(lambda x: x.hour)\n",
    "cdr_raw['t'] = cdr_raw['ts_start'].apply(lambda x: checkHour(x.hour))  # adds t1, t2 or t3 to data\n",
    "cdr_raw['weekno'] = cdr_raw['ts_start'].apply(lambda x: x.week)  # adds the week number in the year"
   ]
  },
  {
   "cell_type": "code",
   "execution_count": 7,
   "metadata": {},
   "outputs": [
    {
     "data": {
      "text/html": [
       "<div>\n",
       "<style scoped>\n",
       "    .dataframe tbody tr th:only-of-type {\n",
       "        vertical-align: middle;\n",
       "    }\n",
       "\n",
       "    .dataframe tbody tr th {\n",
       "        vertical-align: top;\n",
       "    }\n",
       "\n",
       "    .dataframe thead th {\n",
       "        text-align: right;\n",
       "    }\n",
       "</style>\n",
       "<table border=\"1\" class=\"dataframe\">\n",
       "  <thead>\n",
       "    <tr style=\"text-align: right;\">\n",
       "      <th></th>\n",
       "      <th>id_chiamante</th>\n",
       "      <th>id_cella_start</th>\n",
       "      <th>id_cella_end</th>\n",
       "      <th>durata</th>\n",
       "      <th>ts_start</th>\n",
       "      <th>weekday</th>\n",
       "      <th>hour</th>\n",
       "      <th>t</th>\n",
       "      <th>weekno</th>\n",
       "    </tr>\n",
       "  </thead>\n",
       "  <tbody>\n",
       "    <tr>\n",
       "      <th>0</th>\n",
       "      <td>99999999999</td>\n",
       "      <td>PI012U3</td>\n",
       "      <td>PI012U3</td>\n",
       "      <td>52</td>\n",
       "      <td>2012-10-09 10:06:29</td>\n",
       "      <td>1</td>\n",
       "      <td>10</td>\n",
       "      <td>t2</td>\n",
       "      <td>41</td>\n",
       "    </tr>\n",
       "    <tr>\n",
       "      <th>1</th>\n",
       "      <td>99999999999</td>\n",
       "      <td>PI016U2</td>\n",
       "      <td>PI016G3</td>\n",
       "      <td>602</td>\n",
       "      <td>2012-10-09 15:02:56</td>\n",
       "      <td>1</td>\n",
       "      <td>15</td>\n",
       "      <td>t2</td>\n",
       "      <td>41</td>\n",
       "    </tr>\n",
       "    <tr>\n",
       "      <th>2</th>\n",
       "      <td>99999999999</td>\n",
       "      <td>PI016U2</td>\n",
       "      <td>PI016U2</td>\n",
       "      <td>670</td>\n",
       "      <td>2012-10-09 21:55:18</td>\n",
       "      <td>1</td>\n",
       "      <td>21</td>\n",
       "      <td>t3</td>\n",
       "      <td>41</td>\n",
       "    </tr>\n",
       "    <tr>\n",
       "      <th>3</th>\n",
       "      <td>99999999999</td>\n",
       "      <td>PI016U2</td>\n",
       "      <td>PI016G2</td>\n",
       "      <td>509</td>\n",
       "      <td>2012-10-09 22:37:56</td>\n",
       "      <td>1</td>\n",
       "      <td>22</td>\n",
       "      <td>t3</td>\n",
       "      <td>41</td>\n",
       "    </tr>\n",
       "    <tr>\n",
       "      <th>4</th>\n",
       "      <td>99999999999</td>\n",
       "      <td>PI016D2</td>\n",
       "      <td>PI016D2</td>\n",
       "      <td>2</td>\n",
       "      <td>2012-10-09 22:49:13</td>\n",
       "      <td>1</td>\n",
       "      <td>22</td>\n",
       "      <td>t3</td>\n",
       "      <td>41</td>\n",
       "    </tr>\n",
       "  </tbody>\n",
       "</table>\n",
       "</div>"
      ],
      "text/plain": [
       "   id_chiamante id_cella_start id_cella_end  durata            ts_start  \\\n",
       "0   99999999999        PI012U3      PI012U3      52 2012-10-09 10:06:29   \n",
       "1   99999999999        PI016U2      PI016G3     602 2012-10-09 15:02:56   \n",
       "2   99999999999        PI016U2      PI016U2     670 2012-10-09 21:55:18   \n",
       "3   99999999999        PI016U2      PI016G2     509 2012-10-09 22:37:56   \n",
       "4   99999999999        PI016D2      PI016D2       2 2012-10-09 22:49:13   \n",
       "\n",
       "   weekday  hour   t  weekno  \n",
       "0        1    10  t2      41  \n",
       "1        1    15  t2      41  \n",
       "2        1    21  t3      41  \n",
       "3        1    22  t3      41  \n",
       "4        1    22  t3      41  "
      ]
     },
     "execution_count": 7,
     "metadata": {},
     "output_type": "execute_result"
    }
   ],
   "source": [
    "#Again, we represent some records from start of the file. Now the two columns are added\n",
    "cdr_raw.head()"
   ]
  },
  {
   "cell_type": "code",
   "execution_count": 8,
   "metadata": {},
   "outputs": [
    {
     "data": {
      "text/html": [
       "<div>\n",
       "<style scoped>\n",
       "    .dataframe tbody tr th:only-of-type {\n",
       "        vertical-align: middle;\n",
       "    }\n",
       "\n",
       "    .dataframe tbody tr th {\n",
       "        vertical-align: top;\n",
       "    }\n",
       "\n",
       "    .dataframe thead th {\n",
       "        text-align: right;\n",
       "    }\n",
       "</style>\n",
       "<table border=\"1\" class=\"dataframe\">\n",
       "  <thead>\n",
       "    <tr style=\"text-align: right;\">\n",
       "      <th></th>\n",
       "      <th>id_chiamante</th>\n",
       "      <th>durata</th>\n",
       "      <th>weekday</th>\n",
       "      <th>hour</th>\n",
       "      <th>weekno</th>\n",
       "    </tr>\n",
       "  </thead>\n",
       "  <tbody>\n",
       "    <tr>\n",
       "      <th>count</th>\n",
       "      <td>3.790000e+02</td>\n",
       "      <td>379.000000</td>\n",
       "      <td>379.000000</td>\n",
       "      <td>379.000000</td>\n",
       "      <td>379.000000</td>\n",
       "    </tr>\n",
       "    <tr>\n",
       "      <th>mean</th>\n",
       "      <td>1.000000e+11</td>\n",
       "      <td>285.912929</td>\n",
       "      <td>2.271768</td>\n",
       "      <td>15.298153</td>\n",
       "      <td>42.875989</td>\n",
       "    </tr>\n",
       "    <tr>\n",
       "      <th>std</th>\n",
       "      <td>0.000000e+00</td>\n",
       "      <td>396.100356</td>\n",
       "      <td>1.589489</td>\n",
       "      <td>4.923572</td>\n",
       "      <td>1.239956</td>\n",
       "    </tr>\n",
       "    <tr>\n",
       "      <th>min</th>\n",
       "      <td>1.000000e+11</td>\n",
       "      <td>1.000000</td>\n",
       "      <td>0.000000</td>\n",
       "      <td>0.000000</td>\n",
       "      <td>41.000000</td>\n",
       "    </tr>\n",
       "    <tr>\n",
       "      <th>25%</th>\n",
       "      <td>1.000000e+11</td>\n",
       "      <td>31.000000</td>\n",
       "      <td>1.000000</td>\n",
       "      <td>10.000000</td>\n",
       "      <td>42.000000</td>\n",
       "    </tr>\n",
       "    <tr>\n",
       "      <th>50%</th>\n",
       "      <td>1.000000e+11</td>\n",
       "      <td>114.000000</td>\n",
       "      <td>2.000000</td>\n",
       "      <td>16.000000</td>\n",
       "      <td>43.000000</td>\n",
       "    </tr>\n",
       "    <tr>\n",
       "      <th>75%</th>\n",
       "      <td>1.000000e+11</td>\n",
       "      <td>364.000000</td>\n",
       "      <td>4.000000</td>\n",
       "      <td>20.000000</td>\n",
       "      <td>44.000000</td>\n",
       "    </tr>\n",
       "    <tr>\n",
       "      <th>max</th>\n",
       "      <td>1.000000e+11</td>\n",
       "      <td>1927.000000</td>\n",
       "      <td>6.000000</td>\n",
       "      <td>23.000000</td>\n",
       "      <td>45.000000</td>\n",
       "    </tr>\n",
       "  </tbody>\n",
       "</table>\n",
       "</div>"
      ],
      "text/plain": [
       "       id_chiamante       durata     weekday        hour      weekno\n",
       "count  3.790000e+02   379.000000  379.000000  379.000000  379.000000\n",
       "mean   1.000000e+11   285.912929    2.271768   15.298153   42.875989\n",
       "std    0.000000e+00   396.100356    1.589489    4.923572    1.239956\n",
       "min    1.000000e+11     1.000000    0.000000    0.000000   41.000000\n",
       "25%    1.000000e+11    31.000000    1.000000   10.000000   42.000000\n",
       "50%    1.000000e+11   114.000000    2.000000   16.000000   43.000000\n",
       "75%    1.000000e+11   364.000000    4.000000   20.000000   44.000000\n",
       "max    1.000000e+11  1927.000000    6.000000   23.000000   45.000000"
      ]
     },
     "execution_count": 8,
     "metadata": {},
     "output_type": "execute_result"
    }
   ],
   "source": [
    "#We can get a description of our data based on each column\n",
    "cdr_raw.describe()"
   ]
  },
  {
   "cell_type": "code",
   "execution_count": 9,
   "metadata": {
    "scrolled": true
   },
   "outputs": [
    {
     "data": {
      "text/plain": [
       "1"
      ]
     },
     "execution_count": 9,
     "metadata": {},
     "output_type": "execute_result"
    }
   ],
   "source": [
    "#How many unique users are there in our dataset?\n",
    "len(cdr_raw.id_chiamante.unique())  #cdr_raw['id_chiamante']"
   ]
  },
  {
   "cell_type": "code",
   "execution_count": 10,
   "metadata": {},
   "outputs": [
    {
     "data": {
      "text/plain": [
       "27"
      ]
     },
     "execution_count": 10,
     "metadata": {},
     "output_type": "execute_result"
    }
   ],
   "source": [
    "#How many unique start cells are there in our dataset?\n",
    "len(cdr_raw.id_cella_start.unique())"
   ]
  },
  {
   "cell_type": "code",
   "execution_count": 11,
   "metadata": {},
   "outputs": [
    {
     "data": {
      "text/plain": [
       "<matplotlib.axes._subplots.AxesSubplot at 0x1090a2630>"
      ]
     },
     "execution_count": 11,
     "metadata": {},
     "output_type": "execute_result"
    },
    {
     "data": {
      "image/png": "[encoded data removed]",
      "text/plain": [
       "<Figure size 432x288 with 1 Axes>"
      ]
     },
     "metadata": {},
     "output_type": "display_data"
    }
   ],
   "source": [
    "#Histogram of data for each start cell\n",
    "cdr_raw['id_cella_start'].value_counts().plot(kind='bar')"
   ]
  },
  {
   "cell_type": "code",
   "execution_count": 12,
   "metadata": {},
   "outputs": [
    {
     "data": {
      "text/plain": [
       "35"
      ]
     },
     "execution_count": 12,
     "metadata": {},
     "output_type": "execute_result"
    }
   ],
   "source": [
    "#How many unique end cells are there in our dataset?\n",
    "len(cdr_raw.id_cella_end.unique())"
   ]
  },
  {
   "cell_type": "code",
   "execution_count": 13,
   "metadata": {},
   "outputs": [
    {
     "data": {
      "text/plain": [
       "<matplotlib.axes._subplots.AxesSubplot at 0x1091309e8>"
      ]
     },
     "execution_count": 13,
     "metadata": {},
     "output_type": "execute_result"
    },
    {
     "data": {
      "image/png": "[encoded data removed]",
      "text/plain": [
       "<Figure size 432x288 with 1 Axes>"
      ]
     },
     "metadata": {},
     "output_type": "display_data"
    }
   ],
   "source": [
    "#Histogram of data for each end cell\n",
    "cdr_raw['id_cella_end'].value_counts().plot(kind='bar')"
   ]
  },
  {
   "cell_type": "code",
   "execution_count": 14,
   "metadata": {},
   "outputs": [],
   "source": [
    "#Now we want to build another data frame from our cdr_raw and call it cdr_matrix\n",
    "#Using pivot_table\n",
    "cdr_matrix = cdr_raw.pivot_table(index=cdr_raw[\"hour\"],columns=cdr_raw[\"weekday\"],aggfunc=len)"
   ]
  },
  {
   "cell_type": "code",
   "execution_count": 16,
   "metadata": {},
   "outputs": [
    {
     "data": {
      "text/html": [
       "<div>\n",
       "<style scoped>\n",
       "    .dataframe tbody tr th:only-of-type {\n",
       "        vertical-align: middle;\n",
       "    }\n",
       "\n",
       "    .dataframe tbody tr th {\n",
       "        vertical-align: top;\n",
       "    }\n",
       "\n",
       "    .dataframe thead tr th {\n",
       "        text-align: left;\n",
       "    }\n",
       "\n",
       "    .dataframe thead tr:last-of-type th {\n",
       "        text-align: right;\n",
       "    }\n",
       "</style>\n",
       "<table border=\"1\" class=\"dataframe\">\n",
       "  <thead>\n",
       "    <tr>\n",
       "      <th></th>\n",
       "      <th colspan=\"7\" halign=\"left\">durata</th>\n",
       "      <th colspan=\"3\" halign=\"left\">id_cella_end</th>\n",
       "      <th>...</th>\n",
       "      <th colspan=\"3\" halign=\"left\">ts_start</th>\n",
       "      <th colspan=\"7\" halign=\"left\">weekno</th>\n",
       "    </tr>\n",
       "    <tr>\n",
       "      <th>weekday</th>\n",
       "      <th>0</th>\n",
       "      <th>1</th>\n",
       "      <th>2</th>\n",
       "      <th>3</th>\n",
       "      <th>4</th>\n",
       "      <th>5</th>\n",
       "      <th>6</th>\n",
       "      <th>0</th>\n",
       "      <th>1</th>\n",
       "      <th>2</th>\n",
       "      <th>...</th>\n",
       "      <th>4</th>\n",
       "      <th>5</th>\n",
       "      <th>6</th>\n",
       "      <th>0</th>\n",
       "      <th>1</th>\n",
       "      <th>2</th>\n",
       "      <th>3</th>\n",
       "      <th>4</th>\n",
       "      <th>5</th>\n",
       "      <th>6</th>\n",
       "    </tr>\n",
       "    <tr>\n",
       "      <th>hour</th>\n",
       "      <th></th>\n",
       "      <th></th>\n",
       "      <th></th>\n",
       "      <th></th>\n",
       "      <th></th>\n",
       "      <th></th>\n",
       "      <th></th>\n",
       "      <th></th>\n",
       "      <th></th>\n",
       "      <th></th>\n",
       "      <th></th>\n",
       "      <th></th>\n",
       "      <th></th>\n",
       "      <th></th>\n",
       "      <th></th>\n",
       "      <th></th>\n",
       "      <th></th>\n",
       "      <th></th>\n",
       "      <th></th>\n",
       "      <th></th>\n",
       "      <th></th>\n",
       "    </tr>\n",
       "  </thead>\n",
       "  <tbody>\n",
       "    <tr>\n",
       "      <th>0</th>\n",
       "      <td>NaN</td>\n",
       "      <td>NaN</td>\n",
       "      <td>1.0</td>\n",
       "      <td>NaN</td>\n",
       "      <td>1.0</td>\n",
       "      <td>NaN</td>\n",
       "      <td>NaN</td>\n",
       "      <td>NaN</td>\n",
       "      <td>NaN</td>\n",
       "      <td>1.0</td>\n",
       "      <td>...</td>\n",
       "      <td>1.0</td>\n",
       "      <td>NaN</td>\n",
       "      <td>NaN</td>\n",
       "      <td>NaN</td>\n",
       "      <td>NaN</td>\n",
       "      <td>1.0</td>\n",
       "      <td>NaN</td>\n",
       "      <td>1.0</td>\n",
       "      <td>NaN</td>\n",
       "      <td>NaN</td>\n",
       "    </tr>\n",
       "    <tr>\n",
       "      <th>1</th>\n",
       "      <td>NaN</td>\n",
       "      <td>NaN</td>\n",
       "      <td>1.0</td>\n",
       "      <td>NaN</td>\n",
       "      <td>NaN</td>\n",
       "      <td>NaN</td>\n",
       "      <td>NaN</td>\n",
       "      <td>NaN</td>\n",
       "      <td>NaN</td>\n",
       "      <td>1.0</td>\n",
       "      <td>...</td>\n",
       "      <td>NaN</td>\n",
       "      <td>NaN</td>\n",
       "      <td>NaN</td>\n",
       "      <td>NaN</td>\n",
       "      <td>NaN</td>\n",
       "      <td>1.0</td>\n",
       "      <td>NaN</td>\n",
       "      <td>NaN</td>\n",
       "      <td>NaN</td>\n",
       "      <td>NaN</td>\n",
       "    </tr>\n",
       "    <tr>\n",
       "      <th>6</th>\n",
       "      <td>NaN</td>\n",
       "      <td>NaN</td>\n",
       "      <td>1.0</td>\n",
       "      <td>NaN</td>\n",
       "      <td>NaN</td>\n",
       "      <td>NaN</td>\n",
       "      <td>NaN</td>\n",
       "      <td>NaN</td>\n",
       "      <td>NaN</td>\n",
       "      <td>1.0</td>\n",
       "      <td>...</td>\n",
       "      <td>NaN</td>\n",
       "      <td>NaN</td>\n",
       "      <td>NaN</td>\n",
       "      <td>NaN</td>\n",
       "      <td>NaN</td>\n",
       "      <td>1.0</td>\n",
       "      <td>NaN</td>\n",
       "      <td>NaN</td>\n",
       "      <td>NaN</td>\n",
       "      <td>NaN</td>\n",
       "    </tr>\n",
       "    <tr>\n",
       "      <th>7</th>\n",
       "      <td>NaN</td>\n",
       "      <td>NaN</td>\n",
       "      <td>4.0</td>\n",
       "      <td>1.0</td>\n",
       "      <td>1.0</td>\n",
       "      <td>NaN</td>\n",
       "      <td>NaN</td>\n",
       "      <td>NaN</td>\n",
       "      <td>NaN</td>\n",
       "      <td>4.0</td>\n",
       "      <td>...</td>\n",
       "      <td>1.0</td>\n",
       "      <td>NaN</td>\n",
       "      <td>NaN</td>\n",
       "      <td>NaN</td>\n",
       "      <td>NaN</td>\n",
       "      <td>4.0</td>\n",
       "      <td>1.0</td>\n",
       "      <td>1.0</td>\n",
       "      <td>NaN</td>\n",
       "      <td>NaN</td>\n",
       "    </tr>\n",
       "    <tr>\n",
       "      <th>8</th>\n",
       "      <td>NaN</td>\n",
       "      <td>2.0</td>\n",
       "      <td>3.0</td>\n",
       "      <td>1.0</td>\n",
       "      <td>9.0</td>\n",
       "      <td>NaN</td>\n",
       "      <td>NaN</td>\n",
       "      <td>NaN</td>\n",
       "      <td>2.0</td>\n",
       "      <td>3.0</td>\n",
       "      <td>...</td>\n",
       "      <td>9.0</td>\n",
       "      <td>NaN</td>\n",
       "      <td>NaN</td>\n",
       "      <td>NaN</td>\n",
       "      <td>2.0</td>\n",
       "      <td>3.0</td>\n",
       "      <td>1.0</td>\n",
       "      <td>9.0</td>\n",
       "      <td>NaN</td>\n",
       "      <td>NaN</td>\n",
       "    </tr>\n",
       "  </tbody>\n",
       "</table>\n",
       "<p>5 rows × 49 columns</p>\n",
       "</div>"
      ],
      "text/plain": [
       "        durata                             id_cella_end           ...  \\\n",
       "weekday      0    1    2    3    4   5   6            0    1    2 ...   \n",
       "hour                                                              ...   \n",
       "0          NaN  NaN  1.0  NaN  1.0 NaN NaN          NaN  NaN  1.0 ...   \n",
       "1          NaN  NaN  1.0  NaN  NaN NaN NaN          NaN  NaN  1.0 ...   \n",
       "6          NaN  NaN  1.0  NaN  NaN NaN NaN          NaN  NaN  1.0 ...   \n",
       "7          NaN  NaN  4.0  1.0  1.0 NaN NaN          NaN  NaN  4.0 ...   \n",
       "8          NaN  2.0  3.0  1.0  9.0 NaN NaN          NaN  2.0  3.0 ...   \n",
       "\n",
       "        ts_start         weekno                              \n",
       "weekday        4   5   6      0    1    2    3    4   5   6  \n",
       "hour                                                         \n",
       "0            1.0 NaN NaN    NaN  NaN  1.0  NaN  1.0 NaN NaN  \n",
       "1            NaN NaN NaN    NaN  NaN  1.0  NaN  NaN NaN NaN  \n",
       "6            NaN NaN NaN    NaN  NaN  1.0  NaN  NaN NaN NaN  \n",
       "7            1.0 NaN NaN    NaN  NaN  4.0  1.0  1.0 NaN NaN  \n",
       "8            9.0 NaN NaN    NaN  2.0  3.0  1.0  9.0 NaN NaN  \n",
       "\n",
       "[5 rows x 49 columns]"
      ]
     },
     "execution_count": 16,
     "metadata": {},
     "output_type": "execute_result"
    }
   ],
   "source": [
    "#The table is indexed based on \"hour\" and columned on weekdays (namely 0,1,2,3,4,5,6) and\n",
    "#aggregated based on len, which means we get the length of each dimension. Actually, it means we get the count\n",
    "#The aggregated data are for each of the columns of cdr_raw and are duplicate\n",
    "cdr_matrix.head()"
   ]
  },
  {
   "cell_type": "code",
   "execution_count": 17,
   "metadata": {},
   "outputs": [],
   "source": [
    "#To remove duplicates, we select just one column. We can choose any column\n",
    "cdr_matrix = cdr_matrix[\"durata\"]"
   ]
  },
  {
   "cell_type": "code",
   "execution_count": 18,
   "metadata": {},
   "outputs": [
    {
     "data": {
      "text/html": [
       "<div>\n",
       "<style scoped>\n",
       "    .dataframe tbody tr th:only-of-type {\n",
       "        vertical-align: middle;\n",
       "    }\n",
       "\n",
       "    .dataframe tbody tr th {\n",
       "        vertical-align: top;\n",
       "    }\n",
       "\n",
       "    .dataframe thead th {\n",
       "        text-align: right;\n",
       "    }\n",
       "</style>\n",
       "<table border=\"1\" class=\"dataframe\">\n",
       "  <thead>\n",
       "    <tr style=\"text-align: right;\">\n",
       "      <th>weekday</th>\n",
       "      <th>0</th>\n",
       "      <th>1</th>\n",
       "      <th>2</th>\n",
       "      <th>3</th>\n",
       "      <th>4</th>\n",
       "      <th>5</th>\n",
       "      <th>6</th>\n",
       "    </tr>\n",
       "    <tr>\n",
       "      <th>hour</th>\n",
       "      <th></th>\n",
       "      <th></th>\n",
       "      <th></th>\n",
       "      <th></th>\n",
       "      <th></th>\n",
       "      <th></th>\n",
       "      <th></th>\n",
       "    </tr>\n",
       "  </thead>\n",
       "  <tbody>\n",
       "    <tr>\n",
       "      <th>0</th>\n",
       "      <td>NaN</td>\n",
       "      <td>NaN</td>\n",
       "      <td>1.0</td>\n",
       "      <td>NaN</td>\n",
       "      <td>1.0</td>\n",
       "      <td>NaN</td>\n",
       "      <td>NaN</td>\n",
       "    </tr>\n",
       "    <tr>\n",
       "      <th>1</th>\n",
       "      <td>NaN</td>\n",
       "      <td>NaN</td>\n",
       "      <td>1.0</td>\n",
       "      <td>NaN</td>\n",
       "      <td>NaN</td>\n",
       "      <td>NaN</td>\n",
       "      <td>NaN</td>\n",
       "    </tr>\n",
       "    <tr>\n",
       "      <th>6</th>\n",
       "      <td>NaN</td>\n",
       "      <td>NaN</td>\n",
       "      <td>1.0</td>\n",
       "      <td>NaN</td>\n",
       "      <td>NaN</td>\n",
       "      <td>NaN</td>\n",
       "      <td>NaN</td>\n",
       "    </tr>\n",
       "    <tr>\n",
       "      <th>7</th>\n",
       "      <td>NaN</td>\n",
       "      <td>NaN</td>\n",
       "      <td>4.0</td>\n",
       "      <td>1.0</td>\n",
       "      <td>1.0</td>\n",
       "      <td>NaN</td>\n",
       "      <td>NaN</td>\n",
       "    </tr>\n",
       "    <tr>\n",
       "      <th>8</th>\n",
       "      <td>NaN</td>\n",
       "      <td>2.0</td>\n",
       "      <td>3.0</td>\n",
       "      <td>1.0</td>\n",
       "      <td>9.0</td>\n",
       "      <td>NaN</td>\n",
       "      <td>NaN</td>\n",
       "    </tr>\n",
       "  </tbody>\n",
       "</table>\n",
       "</div>"
      ],
      "text/plain": [
       "weekday   0    1    2    3    4   5   6\n",
       "hour                                   \n",
       "0       NaN  NaN  1.0  NaN  1.0 NaN NaN\n",
       "1       NaN  NaN  1.0  NaN  NaN NaN NaN\n",
       "6       NaN  NaN  1.0  NaN  NaN NaN NaN\n",
       "7       NaN  NaN  4.0  1.0  1.0 NaN NaN\n",
       "8       NaN  2.0  3.0  1.0  9.0 NaN NaN"
      ]
     },
     "execution_count": 18,
     "metadata": {},
     "output_type": "execute_result"
    }
   ],
   "source": [
    "cdr_matrix.head()"
   ]
  },
  {
   "cell_type": "code",
   "execution_count": 19,
   "metadata": {},
   "outputs": [],
   "source": [
    "#Now, this is the matrix and we want to draw heatmap for this.\n",
    "#This matrix is the heatmap of all weeks, not week by week like the paper. Getting for every week is straightforward.\n",
    "cdr_matrix = cdr_matrix.fillna(0)"
   ]
  },
  {
   "cell_type": "code",
   "execution_count": 20,
   "metadata": {},
   "outputs": [
    {
     "data": {
      "image/png": "[encoded data removed]",
      "text/plain": [
       "<Figure size 432x288 with 2 Axes>"
      ]
     },
     "metadata": {},
     "output_type": "display_data"
    }
   ],
   "source": [
    "#Now, draw heatmap using sns\n",
    "#more infor on : https://seaborn.pydata.org/generated/seaborn.heatmap.html\n",
    "ax = sns.heatmap(cdr_matrix, annot=True, linewidths=.5, xticklabels=1, yticklabels=1)"
   ]
  },
  {
   "cell_type": "code",
   "execution_count": 19,
   "metadata": {},
   "outputs": [],
   "source": [
    "#Grouping with weeks, so that we can have a feature (such as heatmap or OD graph) for each week"
   ]
  },
  {
   "cell_type": "code",
   "execution_count": 21,
   "metadata": {},
   "outputs": [
    {
     "data": {
      "text/plain": [
       "array([41, 42, 43, 44, 45])"
      ]
     },
     "execution_count": 21,
     "metadata": {},
     "output_type": "execute_result"
    }
   ],
   "source": [
    "cdr_raw['weekno'].unique()"
   ]
  },
  {
   "cell_type": "code",
   "execution_count": 22,
   "metadata": {},
   "outputs": [],
   "source": [
    "grouped= cdr_raw.groupby('weekno')"
   ]
  },
  {
   "cell_type": "code",
   "execution_count": 23,
   "metadata": {},
   "outputs": [
    {
     "data": {
      "text/plain": [
       "dict_keys([41, 42, 43, 44, 45])"
      ]
     },
     "execution_count": 23,
     "metadata": {},
     "output_type": "execute_result"
    }
   ],
   "source": [
    "grouped.groups.keys()"
   ]
  },
  {
   "cell_type": "code",
   "execution_count": 24,
   "metadata": {},
   "outputs": [
    {
     "data": {
      "text/html": [
       "<div>\n",
       "<style scoped>\n",
       "    .dataframe tbody tr th:only-of-type {\n",
       "        vertical-align: middle;\n",
       "    }\n",
       "\n",
       "    .dataframe tbody tr th {\n",
       "        vertical-align: top;\n",
       "    }\n",
       "\n",
       "    .dataframe thead th {\n",
       "        text-align: right;\n",
       "    }\n",
       "</style>\n",
       "<table border=\"1\" class=\"dataframe\">\n",
       "  <thead>\n",
       "    <tr style=\"text-align: right;\">\n",
       "      <th></th>\n",
       "      <th>id_chiamante</th>\n",
       "      <th>id_cella_start</th>\n",
       "      <th>id_cella_end</th>\n",
       "      <th>durata</th>\n",
       "      <th>ts_start</th>\n",
       "      <th>weekday</th>\n",
       "      <th>hour</th>\n",
       "      <th>t</th>\n",
       "      <th>weekno</th>\n",
       "    </tr>\n",
       "  </thead>\n",
       "  <tbody>\n",
       "    <tr>\n",
       "      <th>0</th>\n",
       "      <td>99999999999</td>\n",
       "      <td>PI012U3</td>\n",
       "      <td>PI012U3</td>\n",
       "      <td>52</td>\n",
       "      <td>2012-10-09 10:06:29</td>\n",
       "      <td>1</td>\n",
       "      <td>10</td>\n",
       "      <td>t2</td>\n",
       "      <td>41</td>\n",
       "    </tr>\n",
       "    <tr>\n",
       "      <th>1</th>\n",
       "      <td>99999999999</td>\n",
       "      <td>PI016U2</td>\n",
       "      <td>PI016G3</td>\n",
       "      <td>602</td>\n",
       "      <td>2012-10-09 15:02:56</td>\n",
       "      <td>1</td>\n",
       "      <td>15</td>\n",
       "      <td>t2</td>\n",
       "      <td>41</td>\n",
       "    </tr>\n",
       "    <tr>\n",
       "      <th>2</th>\n",
       "      <td>99999999999</td>\n",
       "      <td>PI016U2</td>\n",
       "      <td>PI016U2</td>\n",
       "      <td>670</td>\n",
       "      <td>2012-10-09 21:55:18</td>\n",
       "      <td>1</td>\n",
       "      <td>21</td>\n",
       "      <td>t3</td>\n",
       "      <td>41</td>\n",
       "    </tr>\n",
       "    <tr>\n",
       "      <th>3</th>\n",
       "      <td>99999999999</td>\n",
       "      <td>PI016U2</td>\n",
       "      <td>PI016G2</td>\n",
       "      <td>509</td>\n",
       "      <td>2012-10-09 22:37:56</td>\n",
       "      <td>1</td>\n",
       "      <td>22</td>\n",
       "      <td>t3</td>\n",
       "      <td>41</td>\n",
       "    </tr>\n",
       "    <tr>\n",
       "      <th>4</th>\n",
       "      <td>99999999999</td>\n",
       "      <td>PI016D2</td>\n",
       "      <td>PI016D2</td>\n",
       "      <td>2</td>\n",
       "      <td>2012-10-09 22:49:13</td>\n",
       "      <td>1</td>\n",
       "      <td>22</td>\n",
       "      <td>t3</td>\n",
       "      <td>41</td>\n",
       "    </tr>\n",
       "  </tbody>\n",
       "</table>\n",
       "</div>"
      ],
      "text/plain": [
       "   id_chiamante id_cella_start id_cella_end  durata            ts_start  \\\n",
       "0   99999999999        PI012U3      PI012U3      52 2012-10-09 10:06:29   \n",
       "1   99999999999        PI016U2      PI016G3     602 2012-10-09 15:02:56   \n",
       "2   99999999999        PI016U2      PI016U2     670 2012-10-09 21:55:18   \n",
       "3   99999999999        PI016U2      PI016G2     509 2012-10-09 22:37:56   \n",
       "4   99999999999        PI016D2      PI016D2       2 2012-10-09 22:49:13   \n",
       "\n",
       "   weekday  hour   t  weekno  \n",
       "0        1    10  t2      41  \n",
       "1        1    15  t2      41  \n",
       "2        1    21  t3      41  \n",
       "3        1    22  t3      41  \n",
       "4        1    22  t3      41  "
      ]
     },
     "execution_count": 24,
     "metadata": {},
     "output_type": "execute_result"
    }
   ],
   "source": [
    "grouped.get_group(41).head()"
   ]
  },
  {
   "cell_type": "code",
   "execution_count": 25,
   "metadata": {},
   "outputs": [],
   "source": [
    "numberOfWeeks = len(grouped.groups.keys()) #5\n",
    "NrCols = 3 # We want to have 3 graphs in each row.\n",
    "NrRows = math.ceil(numberOfWeeks/NrCols)"
   ]
  },
  {
   "cell_type": "code",
   "execution_count": 26,
   "metadata": {},
   "outputs": [
    {
     "data": {
      "image/png": "[encoded data removed]",
      "text/plain": [
       "<Figure size 648x216 with 3 Axes>"
      ]
     },
     "metadata": {},
     "output_type": "display_data"
    }
   ],
   "source": [
    "from matplotlib.figure import Figure\n",
    "fig, axs = plt.subplots(1, 3, figsize=(9, 3), sharey=True)"
   ]
  },
  {
   "cell_type": "code",
   "execution_count": 27,
   "metadata": {},
   "outputs": [
    {
     "data": {
      "image/png": "[encoded data removed]",
      "text/plain": [
       "<Figure size 864x648 with 5 Axes>"
      ]
     },
     "metadata": {},
     "output_type": "display_data"
    }
   ],
   "source": [
    "baseNumber = NrRows * 100 + NrCols * 10 + 1\n",
    "plt.figure(figsize=(12,9))\n",
    "i = 0\n",
    "for weekNumber in grouped.groups.keys():\n",
    "    #print (weekNumber)\n",
    "    #print(grouped.groups[weekNumber])\n",
    "    od_matrix = grouped.get_group(weekNumber)[['id_cella_start','id_cella_end']]\n",
    "    od_matrix['id_cella_start'] = od_matrix['id_cella_start'].apply(lambda x: x[:-2])\n",
    "    od_matrix['id_cella_end'] = od_matrix['id_cella_end'].apply(lambda x: x[:-2])\n",
    "    g = nx.from_pandas_edgelist(od_matrix, source='id_cella_start', target='id_cella_end')\n",
    "    cells = [cell for cell in g.nodes]\n",
    "    degrees = [g.degree(cell) for cell in g.nodes]\n",
    "    d = dict(zip(cells, degrees))\n",
    "    plt.subplot(baseNumber + i)\n",
    "    layout = nx.shell_layout(g)\n",
    "    plt.axis('off')\n",
    "    plt.box(on=True)\n",
    "    nx.draw_networkx_nodes(g, \n",
    "                           layout, \n",
    "                           nodelist=d.keys(), \n",
    "                           node_size=[v * 100 for v in d.values()], # a LIST of sizes, based on g.degree\n",
    "                           node_color='lightblue')\n",
    "\n",
    "    nx.draw_networkx_edges(g, layout, width=1, edge_color=\"#cccccc\")\n",
    "\n",
    "    nx.draw_networkx_labels(g, layout, labels=dict(zip(d.keys(), d.keys())))\n",
    "    \n",
    "    i += 1\n",
    "\n",
    "fig.suptitle(\"Origin/Destination Matrix\")\n",
    "\n",
    "plt.show()"
   ]
  },
  {
   "cell_type": "code",
   "execution_count": 28,
   "metadata": {},
   "outputs": [],
   "source": [
    "# The next two cells are just for testing how to build matrix and heatmap"
   ]
  },
  {
   "cell_type": "code",
   "execution_count": 29,
   "metadata": {},
   "outputs": [
    {
     "data": {
      "text/html": [
       "<div>\n",
       "<style scoped>\n",
       "    .dataframe tbody tr th:only-of-type {\n",
       "        vertical-align: middle;\n",
       "    }\n",
       "\n",
       "    .dataframe tbody tr th {\n",
       "        vertical-align: top;\n",
       "    }\n",
       "\n",
       "    .dataframe thead th {\n",
       "        text-align: right;\n",
       "    }\n",
       "</style>\n",
       "<table border=\"1\" class=\"dataframe\">\n",
       "  <thead>\n",
       "    <tr style=\"text-align: right;\">\n",
       "      <th>weekday</th>\n",
       "      <th>0</th>\n",
       "      <th>1</th>\n",
       "      <th>2</th>\n",
       "      <th>3</th>\n",
       "      <th>4</th>\n",
       "      <th>5</th>\n",
       "      <th>6</th>\n",
       "    </tr>\n",
       "    <tr>\n",
       "      <th>t</th>\n",
       "      <th></th>\n",
       "      <th></th>\n",
       "      <th></th>\n",
       "      <th></th>\n",
       "      <th></th>\n",
       "      <th></th>\n",
       "      <th></th>\n",
       "    </tr>\n",
       "  </thead>\n",
       "  <tbody>\n",
       "    <tr>\n",
       "      <th>t1</th>\n",
       "      <td>NaN</td>\n",
       "      <td>NaN</td>\n",
       "      <td>3.0</td>\n",
       "      <td>NaN</td>\n",
       "      <td>1.0</td>\n",
       "      <td>NaN</td>\n",
       "      <td>NaN</td>\n",
       "    </tr>\n",
       "    <tr>\n",
       "      <th>t2</th>\n",
       "      <td>34.0</td>\n",
       "      <td>36.0</td>\n",
       "      <td>58.0</td>\n",
       "      <td>23.0</td>\n",
       "      <td>63.0</td>\n",
       "      <td>8.0</td>\n",
       "      <td>9.0</td>\n",
       "    </tr>\n",
       "    <tr>\n",
       "      <th>t3</th>\n",
       "      <td>22.0</td>\n",
       "      <td>44.0</td>\n",
       "      <td>29.0</td>\n",
       "      <td>26.0</td>\n",
       "      <td>14.0</td>\n",
       "      <td>6.0</td>\n",
       "      <td>3.0</td>\n",
       "    </tr>\n",
       "  </tbody>\n",
       "</table>\n",
       "</div>"
      ],
      "text/plain": [
       "weekday     0     1     2     3     4    5    6\n",
       "t                                              \n",
       "t1        NaN   NaN   3.0   NaN   1.0  NaN  NaN\n",
       "t2       34.0  36.0  58.0  23.0  63.0  8.0  9.0\n",
       "t3       22.0  44.0  29.0  26.0  14.0  6.0  3.0"
      ]
     },
     "execution_count": 29,
     "metadata": {},
     "output_type": "execute_result"
    }
   ],
   "source": [
    "cdr_raw.groupby(['weekday','t']).count()['durata'].unstack().transpose()"
   ]
  },
  {
   "cell_type": "code",
   "execution_count": 30,
   "metadata": {},
   "outputs": [],
   "source": [
    "cdr_matrixT = cdr_raw.groupby(['weekday', 't']).count()['durata'].unstack().transpose()"
   ]
  },
  {
   "cell_type": "code",
   "execution_count": 31,
   "metadata": {},
   "outputs": [
    {
     "data": {
      "image/png": "[encoded data removed]",
      "text/plain": [
       "<Figure size 432x288 with 2 Axes>"
      ]
     },
     "metadata": {},
     "output_type": "display_data"
    }
   ],
   "source": [
    "ax = sns.heatmap(cdr_matrixT, annot=True, linewidths=.5, xticklabels=1, yticklabels=1)"
   ]
  },
  {
   "cell_type": "code",
   "execution_count": 32,
   "metadata": {},
   "outputs": [],
   "source": [
    "# Now we are going to build a heatmap for each week"
   ]
  },
  {
   "cell_type": "code",
   "execution_count": 33,
   "metadata": {},
   "outputs": [
    {
     "data": {
      "image/png": "[encoded data removed]",
      "text/plain": [
       "<Figure size 864x648 with 10 Axes>"
      ]
     },
     "metadata": {},
     "output_type": "display_data"
    }
   ],
   "source": [
    "baseNumber = NrRows * 100 + NrCols * 10 + 1\n",
    "plt.figure(figsize=(12,9))\n",
    "i = 0\n",
    "for weekNumber in grouped.groups.keys():\n",
    "    #print (weekNumber)\n",
    "    #print(grouped.groups[weekNumber])\n",
    "    cdr_matrixT = grouped.get_group(weekNumber).groupby(['weekday', 't']).count()['durata'].unstack().transpose()\n",
    "    cdr_matrixT = cdr_matrixT.fillna(0.0)\n",
    "    #print(list(cdr_matrixT.columns))\n",
    "    \n",
    "    #checking for col differences\n",
    "    col_diff = set(range(0,7)) - set(cdr_matrixT.columns) #contains the missing columns\n",
    "    for col in col_diff:\n",
    "        #print (col) #the missing column\n",
    "        cdr_matrixT[col] = 0.0 #add the missing column with 0.0 for all rows\n",
    "    # When we add the missing col, it is appended to the end, so we need to sort the names of the columns\n",
    "    cdr_matrixT = cdr_matrixT[sorted(cdr_matrixT.columns)]\n",
    "    \n",
    "    #checking for row differences\n",
    "    row_diff = {'t1', 't2', 't3'} - set(cdr_matrixT.index.values) #contains the missing rows\n",
    "    for row in row_diff:\n",
    "        #print (row) #the missing row\n",
    "        cdr_matrixT.loc[row] = 0.0 #add the missing row with 0.0 for all columns\n",
    "    # When we add the missing col, it is appended to the end, so we need to sort the names of the rows\n",
    "    cdr_matrixT.sort_index(inplace=True)\n",
    "    \n",
    "    #print(cdr_matrixT.loc['t3'])\n",
    "\n",
    "    sns.heatmap(cdr_matrixT, annot=True, linewidths=.5, xticklabels=1, yticklabels=1, ax=plt.subplot(baseNumber + i))\n",
    "    i += 1\n",
    "\n",
    "fig.suptitle(\"Origin/Destination Matrix\")\n",
    "\n",
    "plt.show()"
   ]
  },
  {
   "cell_type": "code",
   "execution_count": null,
   "metadata": {},
   "outputs": [],
   "source": []
  }
 ],
 "metadata": {
  "kernelspec": {
   "display_name": "Python 3",
   "language": "python",
   "name": "python3"
  },
  "language_info": {
   "codemirror_mode": {
    "name": "ipython",
    "version": 3
   },
   "file_extension": ".py",
   "mimetype": "text/x-python",
   "name": "python",
   "nbconvert_exporter": "python",
   "pygments_lexer": "ipython3",
   "version": "3.7.0"
  }
 },
 "nbformat": 4,
 "nbformat_minor": 2
}
